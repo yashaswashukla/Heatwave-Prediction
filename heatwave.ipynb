{
 "cells": [
  {
   "cell_type": "code",
   "execution_count": 1,
   "metadata": {},
   "outputs": [],
   "source": [
    "import numpy as np\n",
    "import pandas as pd\n",
    "import matplotlib.pyplot as plt"
   ]
  },
  {
   "cell_type": "code",
   "execution_count": 4,
   "metadata": {},
   "outputs": [
    {
     "data": {
      "text/html": [
       "<div>\n",
       "<style scoped>\n",
       "    .dataframe tbody tr th:only-of-type {\n",
       "        vertical-align: middle;\n",
       "    }\n",
       "\n",
       "    .dataframe tbody tr th {\n",
       "        vertical-align: top;\n",
       "    }\n",
       "\n",
       "    .dataframe thead th {\n",
       "        text-align: right;\n",
       "    }\n",
       "</style>\n",
       "<table border=\"1\" class=\"dataframe\">\n",
       "  <thead>\n",
       "    <tr style=\"text-align: right;\">\n",
       "      <th></th>\n",
       "      <th>YEAR</th>\n",
       "      <th>MO</th>\n",
       "      <th>DY</th>\n",
       "      <th>T2M_MAX</th>\n",
       "      <th>T2M</th>\n",
       "      <th>T2M_MIN</th>\n",
       "      <th>TS</th>\n",
       "      <th>RH2M</th>\n",
       "      <th>PS</th>\n",
       "      <th>T2MDEW</th>\n",
       "    </tr>\n",
       "  </thead>\n",
       "  <tbody>\n",
       "    <tr>\n",
       "      <th>0</th>\n",
       "      <td>1981</td>\n",
       "      <td>1</td>\n",
       "      <td>30</td>\n",
       "      <td>32.74</td>\n",
       "      <td>23.66</td>\n",
       "      <td>16.23</td>\n",
       "      <td>24.46</td>\n",
       "      <td>39.62</td>\n",
       "      <td>100.66</td>\n",
       "      <td>8.44</td>\n",
       "    </tr>\n",
       "    <tr>\n",
       "      <th>1</th>\n",
       "      <td>1981</td>\n",
       "      <td>1</td>\n",
       "      <td>31</td>\n",
       "      <td>29.87</td>\n",
       "      <td>20.52</td>\n",
       "      <td>13.20</td>\n",
       "      <td>21.29</td>\n",
       "      <td>24.56</td>\n",
       "      <td>100.78</td>\n",
       "      <td>-3.58</td>\n",
       "    </tr>\n",
       "    <tr>\n",
       "      <th>2</th>\n",
       "      <td>1981</td>\n",
       "      <td>2</td>\n",
       "      <td>1</td>\n",
       "      <td>28.83</td>\n",
       "      <td>18.56</td>\n",
       "      <td>9.97</td>\n",
       "      <td>19.13</td>\n",
       "      <td>17.00</td>\n",
       "      <td>101.13</td>\n",
       "      <td>-7.96</td>\n",
       "    </tr>\n",
       "    <tr>\n",
       "      <th>3</th>\n",
       "      <td>1981</td>\n",
       "      <td>2</td>\n",
       "      <td>2</td>\n",
       "      <td>29.18</td>\n",
       "      <td>18.76</td>\n",
       "      <td>9.08</td>\n",
       "      <td>19.08</td>\n",
       "      <td>20.62</td>\n",
       "      <td>101.13</td>\n",
       "      <td>-5.92</td>\n",
       "    </tr>\n",
       "    <tr>\n",
       "      <th>4</th>\n",
       "      <td>1981</td>\n",
       "      <td>2</td>\n",
       "      <td>3</td>\n",
       "      <td>32.55</td>\n",
       "      <td>21.55</td>\n",
       "      <td>10.51</td>\n",
       "      <td>20.84</td>\n",
       "      <td>16.69</td>\n",
       "      <td>100.90</td>\n",
       "      <td>-6.55</td>\n",
       "    </tr>\n",
       "  </tbody>\n",
       "</table>\n",
       "</div>"
      ],
      "text/plain": [
       "   YEAR  MO  DY  T2M_MAX    T2M  T2M_MIN     TS   RH2M      PS  T2MDEW\n",
       "0  1981   1  30    32.74  23.66    16.23  24.46  39.62  100.66    8.44\n",
       "1  1981   1  31    29.87  20.52    13.20  21.29  24.56  100.78   -3.58\n",
       "2  1981   2   1    28.83  18.56     9.97  19.13  17.00  101.13   -7.96\n",
       "3  1981   2   2    29.18  18.76     9.08  19.08  20.62  101.13   -5.92\n",
       "4  1981   2   3    32.55  21.55    10.51  20.84  16.69  100.90   -6.55"
      ]
     },
     "execution_count": 4,
     "metadata": {},
     "output_type": "execute_result"
    }
   ],
   "source": [
    "df = pd.read_csv('Dataset/Ahemdabad.csv', skiprows = 15)\n",
    "df.head()"
   ]
  },
  {
   "cell_type": "code",
   "execution_count": 5,
   "metadata": {},
   "outputs": [],
   "source": [
    "df['YEAR'] = df.YEAR.astype(str)\n",
    "df['MO'] = df.MO.astype(str)\n",
    "df['DY'] = df.DY.astype(str)\n",
    "\n",
    "df['dateTime'] = df['YEAR'].str.cat(df['MO'])\n",
    "df['dateTime'] = df['dateTime'].str.cat(df['DY'])\n",
    "\n",
    "df.drop(['YEAR', 'MO', 'DY'], axis=1, inplace=True)"
   ]
  },
  {
   "cell_type": "code",
   "execution_count": 6,
   "metadata": {},
   "outputs": [
    {
     "data": {
      "text/html": [
       "<div>\n",
       "<style scoped>\n",
       "    .dataframe tbody tr th:only-of-type {\n",
       "        vertical-align: middle;\n",
       "    }\n",
       "\n",
       "    .dataframe tbody tr th {\n",
       "        vertical-align: top;\n",
       "    }\n",
       "\n",
       "    .dataframe thead th {\n",
       "        text-align: right;\n",
       "    }\n",
       "</style>\n",
       "<table border=\"1\" class=\"dataframe\">\n",
       "  <thead>\n",
       "    <tr style=\"text-align: right;\">\n",
       "      <th></th>\n",
       "      <th>T2M_MAX</th>\n",
       "      <th>T2M</th>\n",
       "      <th>T2M_MIN</th>\n",
       "      <th>TS</th>\n",
       "      <th>RH2M</th>\n",
       "      <th>PS</th>\n",
       "      <th>T2MDEW</th>\n",
       "    </tr>\n",
       "    <tr>\n",
       "      <th>dateTime</th>\n",
       "      <th></th>\n",
       "      <th></th>\n",
       "      <th></th>\n",
       "      <th></th>\n",
       "      <th></th>\n",
       "      <th></th>\n",
       "      <th></th>\n",
       "    </tr>\n",
       "  </thead>\n",
       "  <tbody>\n",
       "    <tr>\n",
       "      <th>1981-01-30</th>\n",
       "      <td>32.74</td>\n",
       "      <td>23.66</td>\n",
       "      <td>16.23</td>\n",
       "      <td>24.46</td>\n",
       "      <td>39.62</td>\n",
       "      <td>100.66</td>\n",
       "      <td>8.44</td>\n",
       "    </tr>\n",
       "    <tr>\n",
       "      <th>1981-01-31</th>\n",
       "      <td>29.87</td>\n",
       "      <td>20.52</td>\n",
       "      <td>13.20</td>\n",
       "      <td>21.29</td>\n",
       "      <td>24.56</td>\n",
       "      <td>100.78</td>\n",
       "      <td>-3.58</td>\n",
       "    </tr>\n",
       "    <tr>\n",
       "      <th>1981-02-01</th>\n",
       "      <td>28.83</td>\n",
       "      <td>18.56</td>\n",
       "      <td>9.97</td>\n",
       "      <td>19.13</td>\n",
       "      <td>17.00</td>\n",
       "      <td>101.13</td>\n",
       "      <td>-7.96</td>\n",
       "    </tr>\n",
       "    <tr>\n",
       "      <th>1981-02-02</th>\n",
       "      <td>29.18</td>\n",
       "      <td>18.76</td>\n",
       "      <td>9.08</td>\n",
       "      <td>19.08</td>\n",
       "      <td>20.62</td>\n",
       "      <td>101.13</td>\n",
       "      <td>-5.92</td>\n",
       "    </tr>\n",
       "    <tr>\n",
       "      <th>1981-02-03</th>\n",
       "      <td>32.55</td>\n",
       "      <td>21.55</td>\n",
       "      <td>10.51</td>\n",
       "      <td>20.84</td>\n",
       "      <td>16.69</td>\n",
       "      <td>100.90</td>\n",
       "      <td>-6.55</td>\n",
       "    </tr>\n",
       "  </tbody>\n",
       "</table>\n",
       "</div>"
      ],
      "text/plain": [
       "            T2M_MAX    T2M  T2M_MIN     TS   RH2M      PS  T2MDEW\n",
       "dateTime                                                         \n",
       "1981-01-30    32.74  23.66    16.23  24.46  39.62  100.66    8.44\n",
       "1981-01-31    29.87  20.52    13.20  21.29  24.56  100.78   -3.58\n",
       "1981-02-01    28.83  18.56     9.97  19.13  17.00  101.13   -7.96\n",
       "1981-02-02    29.18  18.76     9.08  19.08  20.62  101.13   -5.92\n",
       "1981-02-03    32.55  21.55    10.51  20.84  16.69  100.90   -6.55"
      ]
     },
     "execution_count": 6,
     "metadata": {},
     "output_type": "execute_result"
    }
   ],
   "source": [
    "df['dateTime'] = pd.to_datetime(df['dateTime'], format = '%Y%m%d')\n",
    "df.set_index('dateTime', inplace = True)\n",
    "df.head()"
   ]
  },
  {
   "cell_type": "code",
   "execution_count": 8,
   "metadata": {},
   "outputs": [
    {
     "data": {
      "text/plain": [
       "(15390,)"
      ]
     },
     "execution_count": 8,
     "metadata": {},
     "output_type": "execute_result"
    }
   ],
   "source": [
    "temp_max = df['T2M_MAX']\n",
    "temp_max = np.array(temp_max)\n",
    "temp_max.shape"
   ]
  },
  {
   "cell_type": "code",
   "execution_count": 9,
   "metadata": {},
   "outputs": [],
   "source": [
    "heatwave = np.zeros(temp_max.shape[0])"
   ]
  },
  {
   "cell_type": "code",
   "execution_count": null,
   "metadata": {},
   "outputs": [],
   "source": []
  }
 ],
 "metadata": {
  "kernelspec": {
   "display_name": "Python 3",
   "language": "python",
   "name": "python3"
  },
  "language_info": {
   "codemirror_mode": {
    "name": "ipython",
    "version": 3
   },
   "file_extension": ".py",
   "mimetype": "text/x-python",
   "name": "python",
   "nbconvert_exporter": "python",
   "pygments_lexer": "ipython3",
   "version": "3.10.10"
  },
  "orig_nbformat": 4
 },
 "nbformat": 4,
 "nbformat_minor": 2
}
